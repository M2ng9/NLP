{
 "cells": [
  {
   "cell_type": "code",
   "execution_count": 2,
   "metadata": {},
   "outputs": [],
   "source": [
    "import nltk"
   ]
  },
  {
   "cell_type": "code",
   "execution_count": 3,
   "metadata": {},
   "outputs": [
    {
     "name": "stdout",
     "output_type": "stream",
     "text": [
      "% start S\n",
      "S[SEM=(?np + WHERE + ?vp)] -> NP[SEM=?np] VP[SEM=?vp]\n",
      "VP[SEM=(?v + ?pp)] -> IV[SEM=?v] PP[SEM=?pp]\n",
      "VP[SEM=(?v + ?ap)] -> IV[SEM=?v] AP[SEM=?ap]\n",
      "NP[SEM=(?det + ?n)] -> Det[SEM=?det] N[SEM=?n]\n",
      "PP[SEM=(?p + ?np)] -> P[SEM=?p] NP[SEM=?np]\n",
      "AP[SEM=?pp] -> A[SEM=?a] PP[SEM=?pp]\n",
      "NP[SEM='Country=\"greece\"'] -> 'Greece'\n",
      "NP[SEM='Country=\"china\"'] -> 'China'\n",
      "Det[SEM='SELECT'] -> 'Which' | 'What'\n",
      "N[SEM='City FROM city_table'] -> 'cities'\n",
      "IV[SEM=''] -> 'are'\n",
      "A[SEM=''] -> 'located'\n",
      "P[SEM=''] -> 'in'\n"
     ]
    }
   ],
   "source": [
    "nltk.data.show_cfg('grammars/book_grammars/sql0.fcfg')"
   ]
  },
  {
   "cell_type": "code",
   "execution_count": 4,
   "metadata": {},
   "outputs": [
    {
     "name": "stdout",
     "output_type": "stream",
     "text": [
      "SELECT City FROM city_table WHERE Country=\"china\"\n"
     ]
    }
   ],
   "source": [
    "from nltk import load_parser\n",
    "cp = load_parser('grammars/book_grammars/sql0.fcfg')\n",
    "query = 'What cities are located in China'\n",
    "trees = list(cp.parse(query.split()))\n",
    "answer = trees[0].label()['SEM']\n",
    "answer = [s for s in answer if s]\n",
    "q = ' '.join(answer)\n",
    "print(q)"
   ]
  },
  {
   "cell_type": "code",
   "execution_count": 5,
   "metadata": {},
   "outputs": [
    {
     "name": "stdout",
     "output_type": "stream",
     "text": [
      "canton chungking dairen harbin kowloon mukden peking shanghai sian tientsin "
     ]
    }
   ],
   "source": [
    "from nltk.sem import chat80\n",
    "rows = chat80.sql_query('corpora/city_database/city.db', q)\n",
    "for r in rows: print(r[0], end=\" \")"
   ]
  },
  {
   "cell_type": "code",
   "execution_count": 6,
   "metadata": {},
   "outputs": [
    {
     "name": "stdout",
     "output_type": "stream",
     "text": [
      "negation       \t-\n",
      "conjunction    \t&\n",
      "disjunction    \t|\n",
      "implication    \t->\n",
      "equivalence    \t<->\n"
     ]
    }
   ],
   "source": [
    "nltk.boolean_ops()"
   ]
  },
  {
   "cell_type": "code",
   "execution_count": 7,
   "metadata": {},
   "outputs": [
    {
     "data": {
      "text/plain": [
       "<NegatedExpression -(P & Q)>"
      ]
     },
     "execution_count": 7,
     "metadata": {},
     "output_type": "execute_result"
    }
   ],
   "source": [
    "read_expr = nltk.sem.Expression.fromstring\n",
    "read_expr('-(P & Q)')"
   ]
  },
  {
   "cell_type": "code",
   "execution_count": 8,
   "metadata": {},
   "outputs": [
    {
     "data": {
      "text/plain": [
       "<AndExpression (P & Q)>"
      ]
     },
     "execution_count": 8,
     "metadata": {},
     "output_type": "execute_result"
    }
   ],
   "source": [
    "read_expr('P & Q')"
   ]
  },
  {
   "cell_type": "code",
   "execution_count": 9,
   "metadata": {},
   "outputs": [
    {
     "data": {
      "text/plain": [
       "<OrExpression (P | (R -> Q))>"
      ]
     },
     "execution_count": 9,
     "metadata": {},
     "output_type": "execute_result"
    }
   ],
   "source": [
    "read_expr('P | (R -> Q)')"
   ]
  },
  {
   "cell_type": "code",
   "execution_count": 10,
   "metadata": {},
   "outputs": [
    {
     "data": {
      "text/plain": [
       "<IffExpression (P <-> --P)>"
      ]
     },
     "execution_count": 10,
     "metadata": {},
     "output_type": "execute_result"
    }
   ],
   "source": [
    "read_expr('P <-> -- P')"
   ]
  },
  {
   "cell_type": "code",
   "execution_count": 83,
   "metadata": {},
   "outputs": [],
   "source": [
    "# lp = nltk.sem.Expression.fromstring\n",
    "# SnF = read_expr('SnF')\n",
    "# NotFnS = read_expr('-FnS')\n",
    "# R = read_expr('SnF -> -FnS')\n",
    "# prover = nltk.Prover9()\n",
    "# prover.prove(NotFnS, [SnF, R])"
   ]
  },
  {
   "cell_type": "code",
   "execution_count": 84,
   "metadata": {},
   "outputs": [],
   "source": [
    "val = nltk.Valuation([('P', True), ('Q', True), ('R', False)])"
   ]
  },
  {
   "cell_type": "code",
   "execution_count": 85,
   "metadata": {},
   "outputs": [
    {
     "data": {
      "text/plain": [
       "True"
      ]
     },
     "execution_count": 85,
     "metadata": {},
     "output_type": "execute_result"
    }
   ],
   "source": [
    "val['P']"
   ]
  },
  {
   "cell_type": "code",
   "execution_count": 86,
   "metadata": {},
   "outputs": [],
   "source": [
    "dom = set()\n",
    "g = nltk.Assignment(dom)"
   ]
  },
  {
   "cell_type": "code",
   "execution_count": 87,
   "metadata": {},
   "outputs": [],
   "source": [
    "m = nltk.Model(dom, val)"
   ]
  },
  {
   "cell_type": "code",
   "execution_count": 88,
   "metadata": {},
   "outputs": [
    {
     "name": "stdout",
     "output_type": "stream",
     "text": [
      "True\n"
     ]
    }
   ],
   "source": [
    "print(m.evaluate('(P & Q)', g))"
   ]
  },
  {
   "cell_type": "code",
   "execution_count": 89,
   "metadata": {},
   "outputs": [
    {
     "name": "stdout",
     "output_type": "stream",
     "text": [
      "False\n"
     ]
    }
   ],
   "source": [
    "print(m.evaluate('-(P & Q)', g))"
   ]
  },
  {
   "cell_type": "code",
   "execution_count": 90,
   "metadata": {},
   "outputs": [
    {
     "name": "stdout",
     "output_type": "stream",
     "text": [
      "False\n"
     ]
    }
   ],
   "source": [
    "print(m.evaluate('(P & R)', g))"
   ]
  },
  {
   "cell_type": "code",
   "execution_count": 91,
   "metadata": {},
   "outputs": [
    {
     "name": "stdout",
     "output_type": "stream",
     "text": [
      "True\n"
     ]
    }
   ],
   "source": [
    "print(m.evaluate('(P | R)', g))"
   ]
  },
  {
   "cell_type": "code",
   "execution_count": 92,
   "metadata": {},
   "outputs": [
    {
     "data": {
      "text/plain": [
       "<ConstantExpression angus>"
      ]
     },
     "execution_count": 92,
     "metadata": {},
     "output_type": "execute_result"
    }
   ],
   "source": [
    "read_expr = nltk.sem.Expression.fromstring\n",
    "expr = read_expr('walk(angus)', type_check=True)\n",
    "expr.argument"
   ]
  },
  {
   "cell_type": "code",
   "execution_count": 93,
   "metadata": {},
   "outputs": [
    {
     "data": {
      "text/plain": [
       "e"
      ]
     },
     "execution_count": 93,
     "metadata": {},
     "output_type": "execute_result"
    }
   ],
   "source": [
    "expr.argument.type"
   ]
  },
  {
   "cell_type": "code",
   "execution_count": 94,
   "metadata": {},
   "outputs": [
    {
     "data": {
      "text/plain": [
       "<ConstantExpression walk>"
      ]
     },
     "execution_count": 94,
     "metadata": {},
     "output_type": "execute_result"
    }
   ],
   "source": [
    "expr.function"
   ]
  },
  {
   "cell_type": "code",
   "execution_count": 95,
   "metadata": {},
   "outputs": [
    {
     "data": {
      "text/plain": [
       "<e,?>"
      ]
     },
     "execution_count": 95,
     "metadata": {},
     "output_type": "execute_result"
    }
   ],
   "source": [
    "expr.function.type"
   ]
  },
  {
   "cell_type": "code",
   "execution_count": 96,
   "metadata": {},
   "outputs": [
    {
     "data": {
      "text/plain": [
       "e"
      ]
     },
     "execution_count": 96,
     "metadata": {},
     "output_type": "execute_result"
    }
   ],
   "source": [
    "sig = {'walk': '<e, t>'}\n",
    "expr = read_expr('walk(angus)', signature=sig)\n",
    "expr.function.type"
   ]
  },
  {
   "cell_type": "code",
   "execution_count": 97,
   "metadata": {},
   "outputs": [
    {
     "data": {
      "text/plain": [
       "set()"
      ]
     },
     "execution_count": 97,
     "metadata": {},
     "output_type": "execute_result"
    }
   ],
   "source": [
    "read_expr = nltk.sem.Expression.fromstring\n",
    "read_expr('dog(cyril)').free()"
   ]
  },
  {
   "cell_type": "code",
   "execution_count": 98,
   "metadata": {},
   "outputs": [
    {
     "data": {
      "text/plain": [
       "{Variable('x')}"
      ]
     },
     "execution_count": 98,
     "metadata": {},
     "output_type": "execute_result"
    }
   ],
   "source": [
    "read_expr('dog(x)').free()"
   ]
  },
  {
   "cell_type": "code",
   "execution_count": 99,
   "metadata": {},
   "outputs": [
    {
     "data": {
      "text/plain": [
       "set()"
      ]
     },
     "execution_count": 99,
     "metadata": {},
     "output_type": "execute_result"
    }
   ],
   "source": [
    "read_expr('own(angus, cyril)').free()"
   ]
  },
  {
   "cell_type": "code",
   "execution_count": 100,
   "metadata": {},
   "outputs": [
    {
     "data": {
      "text/plain": [
       "set()"
      ]
     },
     "execution_count": 100,
     "metadata": {},
     "output_type": "execute_result"
    }
   ],
   "source": [
    "read_expr('exists x.dog(x)').free()"
   ]
  },
  {
   "cell_type": "code",
   "execution_count": 101,
   "metadata": {},
   "outputs": [
    {
     "data": {
      "text/plain": [
       "{Variable('x')}"
      ]
     },
     "execution_count": 101,
     "metadata": {},
     "output_type": "execute_result"
    }
   ],
   "source": [
    "read_expr('((some x. walk(x)) -> sing(x))').free()"
   ]
  },
  {
   "cell_type": "code",
   "execution_count": 102,
   "metadata": {},
   "outputs": [
    {
     "data": {
      "text/plain": [
       "{Variable('y')}"
      ]
     },
     "execution_count": 102,
     "metadata": {},
     "output_type": "execute_result"
    }
   ],
   "source": [
    "read_expr('exists x.own(y, x)').free()"
   ]
  },
  {
   "cell_type": "code",
   "execution_count": 103,
   "metadata": {},
   "outputs": [],
   "source": [
    "# NotFnS = read_expr('-north_of(f, s)')\n",
    "# SnF = read_expr('north_of(s, f)')\n",
    "# R = read_expr('all x. all y. (north_of(x, y) -> -north_of(y, x))')\n",
    "# prover = nltk.Prover9()\n",
    "# prover.prove(NotFnS, [SnF, R])"
   ]
  },
  {
   "cell_type": "code",
   "execution_count": 104,
   "metadata": {},
   "outputs": [],
   "source": [
    "# FnS = read_expr('north_of(f, s)')\n",
    "# prover.prove(FnS, [SnF, R])"
   ]
  },
  {
   "cell_type": "code",
   "execution_count": 105,
   "metadata": {},
   "outputs": [],
   "source": [
    "dom = {'b', 'o', 'c'}"
   ]
  },
  {
   "cell_type": "code",
   "execution_count": 106,
   "metadata": {},
   "outputs": [
    {
     "name": "stdout",
     "output_type": "stream",
     "text": [
      "{'bertie': 'b',\n",
      " 'boy': {('b',)},\n",
      " 'cyril': 'c',\n",
      " 'dog': {('c',)},\n",
      " 'girl': {('o',)},\n",
      " 'olive': 'o',\n",
      " 'see': {('o', 'c'), ('c', 'b'), ('b', 'o')},\n",
      " 'walk': {('o',), ('c',)}}\n"
     ]
    }
   ],
   "source": [
    "v = \"\"\"\n",
    "bertie => b\n",
    "olive => o\n",
    "cyril => c\n",
    "boy => {b}\n",
    "girl => {o}\n",
    "dog => {c}\n",
    "walk => {o, c}\n",
    "see => {(b, o), (c, b), (o, c)}\n",
    "\"\"\"\n",
    "val = nltk.Valuation.fromstring(v)\n",
    "print(val)"
   ]
  },
  {
   "cell_type": "code",
   "execution_count": 107,
   "metadata": {},
   "outputs": [
    {
     "data": {
      "text/plain": [
       "True"
      ]
     },
     "execution_count": 107,
     "metadata": {},
     "output_type": "execute_result"
    }
   ],
   "source": [
    "('o', 'c') in val['see']"
   ]
  },
  {
   "cell_type": "code",
   "execution_count": 108,
   "metadata": {},
   "outputs": [
    {
     "data": {
      "text/plain": [
       "True"
      ]
     },
     "execution_count": 108,
     "metadata": {},
     "output_type": "execute_result"
    }
   ],
   "source": [
    "('b',) in val['boy']"
   ]
  },
  {
   "cell_type": "code",
   "execution_count": 109,
   "metadata": {},
   "outputs": [
    {
     "data": {
      "text/plain": [
       "{'x': 'o', 'y': 'c'}"
      ]
     },
     "execution_count": 109,
     "metadata": {},
     "output_type": "execute_result"
    }
   ],
   "source": [
    "g = nltk.Assignment(dom, [('x', 'o'), ('y', 'c')])\n",
    "g"
   ]
  },
  {
   "cell_type": "code",
   "execution_count": 110,
   "metadata": {},
   "outputs": [
    {
     "name": "stdout",
     "output_type": "stream",
     "text": [
      "g[c/y][o/x]\n"
     ]
    }
   ],
   "source": [
    "print(g)"
   ]
  },
  {
   "cell_type": "code",
   "execution_count": 111,
   "metadata": {},
   "outputs": [
    {
     "data": {
      "text/plain": [
       "True"
      ]
     },
     "execution_count": 111,
     "metadata": {},
     "output_type": "execute_result"
    }
   ],
   "source": [
    "m = nltk.Model(dom, val)\n",
    "m.evaluate('see(olive, y)', g)"
   ]
  },
  {
   "cell_type": "code",
   "execution_count": 112,
   "metadata": {},
   "outputs": [
    {
     "data": {
      "text/plain": [
       "'c'"
      ]
     },
     "execution_count": 112,
     "metadata": {},
     "output_type": "execute_result"
    }
   ],
   "source": [
    "g['y']"
   ]
  },
  {
   "cell_type": "code",
   "execution_count": 113,
   "metadata": {},
   "outputs": [
    {
     "data": {
      "text/plain": [
       "False"
      ]
     },
     "execution_count": 113,
     "metadata": {},
     "output_type": "execute_result"
    }
   ],
   "source": [
    "m.evaluate('see(y, x)', g)"
   ]
  },
  {
   "cell_type": "code",
   "execution_count": 114,
   "metadata": {},
   "outputs": [
    {
     "data": {
      "text/plain": [
       "{}"
      ]
     },
     "execution_count": 114,
     "metadata": {},
     "output_type": "execute_result"
    }
   ],
   "source": [
    "g.purge()\n",
    "g"
   ]
  },
  {
   "cell_type": "code",
   "execution_count": 115,
   "metadata": {},
   "outputs": [
    {
     "data": {
      "text/plain": [
       "'Undefined'"
      ]
     },
     "execution_count": 115,
     "metadata": {},
     "output_type": "execute_result"
    }
   ],
   "source": [
    "m.evaluate('see(olive, y)', g)"
   ]
  },
  {
   "cell_type": "code",
   "execution_count": 116,
   "metadata": {},
   "outputs": [
    {
     "data": {
      "text/plain": [
       "True"
      ]
     },
     "execution_count": 116,
     "metadata": {},
     "output_type": "execute_result"
    }
   ],
   "source": [
    "m.evaluate('see(bertie, olive) & boy(bertie) & -walk(bertie)', g)"
   ]
  },
  {
   "cell_type": "code",
   "execution_count": 117,
   "metadata": {},
   "outputs": [
    {
     "data": {
      "text/plain": [
       "True"
      ]
     },
     "execution_count": 117,
     "metadata": {},
     "output_type": "execute_result"
    }
   ],
   "source": [
    "m.evaluate('exists x.(girl(x) & walk(x))', g)"
   ]
  },
  {
   "cell_type": "code",
   "execution_count": 118,
   "metadata": {},
   "outputs": [
    {
     "data": {
      "text/plain": [
       "True"
      ]
     },
     "execution_count": 118,
     "metadata": {},
     "output_type": "execute_result"
    }
   ],
   "source": [
    "m.evaluate('girl(x) & walk(x)', g.add('x', 'o'))"
   ]
  },
  {
   "cell_type": "code",
   "execution_count": 119,
   "metadata": {},
   "outputs": [
    {
     "data": {
      "text/plain": [
       "{'b', 'o'}"
      ]
     },
     "execution_count": 119,
     "metadata": {},
     "output_type": "execute_result"
    }
   ],
   "source": [
    "fmla1 = read_expr('girl(x) | boy(x)')\n",
    "m.satisfiers(fmla1, 'x', g)"
   ]
  },
  {
   "cell_type": "code",
   "execution_count": 120,
   "metadata": {},
   "outputs": [
    {
     "data": {
      "text/plain": [
       "{'b', 'c', 'o'}"
      ]
     },
     "execution_count": 120,
     "metadata": {},
     "output_type": "execute_result"
    }
   ],
   "source": [
    "fmla2 = read_expr('girl(x) -> walk(x)')\n",
    "m.satisfiers(fmla2, 'x', g)"
   ]
  },
  {
   "cell_type": "code",
   "execution_count": 121,
   "metadata": {},
   "outputs": [
    {
     "data": {
      "text/plain": [
       "{'b', 'o'}"
      ]
     },
     "execution_count": 121,
     "metadata": {},
     "output_type": "execute_result"
    }
   ],
   "source": [
    "fmla3 = read_expr('walk(x) -> girl(x)')\n",
    "m.satisfiers(fmla3, 'x', g)"
   ]
  },
  {
   "cell_type": "code",
   "execution_count": 122,
   "metadata": {},
   "outputs": [
    {
     "data": {
      "text/plain": [
       "True"
      ]
     },
     "execution_count": 122,
     "metadata": {},
     "output_type": "execute_result"
    }
   ],
   "source": [
    "m.evaluate('all x.(girl(x) -> walk(x))', g)"
   ]
  },
  {
   "cell_type": "code",
   "execution_count": 123,
   "metadata": {},
   "outputs": [],
   "source": [
    "v2 = \"\"\"\n",
    "bruce => b\n",
    "elspeth => e\n",
    "julia => j\n",
    "matthew => m\n",
    "person => {b, e, j, m}\n",
    "admire => {(j, b), (b, b), (m, e), (e, m)}\n",
    "\"\"\""
   ]
  },
  {
   "cell_type": "code",
   "execution_count": 124,
   "metadata": {},
   "outputs": [],
   "source": [
    "val2 = nltk.Valuation.fromstring(v2)"
   ]
  },
  {
   "cell_type": "code",
   "execution_count": 125,
   "metadata": {},
   "outputs": [
    {
     "data": {
      "text/plain": [
       "{'b', 'e', 'j', 'm'}"
      ]
     },
     "execution_count": 125,
     "metadata": {},
     "output_type": "execute_result"
    }
   ],
   "source": [
    "dom2 = val2.domain\n",
    "m2 = nltk.Model(dom2, val2)\n",
    "g2 = nltk.Assignment(dom2)\n",
    "fmla4 = read_expr('(person(x) -> exists y.(person(y) & admire(x, y)))')\n",
    "m2.satisfiers(fmla4, 'x', g2)"
   ]
  },
  {
   "cell_type": "code",
   "execution_count": 126,
   "metadata": {},
   "outputs": [
    {
     "data": {
      "text/plain": [
       "set()"
      ]
     },
     "execution_count": 126,
     "metadata": {},
     "output_type": "execute_result"
    }
   ],
   "source": [
    "fmla5 = read_expr('(person(y) & all x.(person(x) -> admire(x, y)))')\n",
    "m2.satisfiers(fmla5, 'y', g2)"
   ]
  },
  {
   "cell_type": "code",
   "execution_count": 127,
   "metadata": {},
   "outputs": [
    {
     "data": {
      "text/plain": [
       "{'b'}"
      ]
     },
     "execution_count": 127,
     "metadata": {},
     "output_type": "execute_result"
    }
   ],
   "source": [
    "fmla6 = read_expr('(person(y) & all x.((x = bruce | x = julia) -> admire(x, y)))')\n",
    "m2.satisfiers(fmla6, 'y', g2)"
   ]
  },
  {
   "cell_type": "code",
   "execution_count": 137,
   "metadata": {},
   "outputs": [
    {
     "ename": "LookupError",
     "evalue": "\n\n===========================================================================\nNLTK was unable to find the mace4 file!\nUse software specific configuration parameters or set the PROVER9 environment variable.\n\n  Searched in:\n    - /usr/local/bin/prover9\n    - /usr/local/bin/prover9/bin\n    - /usr/local/bin\n    - /usr/bin\n    - /usr/local/prover9\n    - /usr/local/share/prover9\n\n  For more information on mace4, see:\n    <https://www.cs.unm.edu/~mccune/prover9/>\n===========================================================================",
     "output_type": "error",
     "traceback": [
      "\u001b[1;31m---------------------------------------------------------------------------\u001b[0m",
      "\u001b[1;31mLookupError\u001b[0m                               Traceback (most recent call last)",
      "\u001b[1;32md:\\NLP Task\\Chapter-10.ipynb Cell 55\u001b[0m line \u001b[0;36m5\n\u001b[0;32m      <a href='vscode-notebook-cell:/d%3A/NLP%20Task/Chapter-10.ipynb#Y105sZmlsZQ%3D%3D?line=2'>3</a>\u001b[0m c2 \u001b[39m=\u001b[39m read_expr(\u001b[39m'\u001b[39m\u001b[39m-mortal(socrates)\u001b[39m\u001b[39m'\u001b[39m)\n\u001b[0;32m      <a href='vscode-notebook-cell:/d%3A/NLP%20Task/Chapter-10.ipynb#Y105sZmlsZQ%3D%3D?line=3'>4</a>\u001b[0m mb \u001b[39m=\u001b[39m nltk\u001b[39m.\u001b[39mMace(\u001b[39m5\u001b[39m)\n\u001b[1;32m----> <a href='vscode-notebook-cell:/d%3A/NLP%20Task/Chapter-10.ipynb#Y105sZmlsZQ%3D%3D?line=4'>5</a>\u001b[0m \u001b[39mprint\u001b[39m(mb\u001b[39m.\u001b[39;49mbuild_model(\u001b[39mNone\u001b[39;49;00m, [a3, c1]))\n",
      "File \u001b[1;32m~\\AppData\\Local\\Packages\\PythonSoftwareFoundation.Python.3.11_qbz5n2kfra8p0\\LocalCache\\local-packages\\Python311\\site-packages\\nltk\\inference\\api.py:61\u001b[0m, in \u001b[0;36mModelBuilder.build_model\u001b[1;34m(self, goal, assumptions, verbose)\u001b[0m\n\u001b[0;32m     55\u001b[0m \u001b[39mdef\u001b[39;00m \u001b[39mbuild_model\u001b[39m(\u001b[39mself\u001b[39m, goal\u001b[39m=\u001b[39m\u001b[39mNone\u001b[39;00m, assumptions\u001b[39m=\u001b[39m\u001b[39mNone\u001b[39;00m, verbose\u001b[39m=\u001b[39m\u001b[39mFalse\u001b[39;00m):\n\u001b[0;32m     56\u001b[0m \u001b[39m    \u001b[39m\u001b[39m\"\"\"\u001b[39;00m\n\u001b[0;32m     57\u001b[0m \u001b[39m    Perform the actual model building.\u001b[39;00m\n\u001b[0;32m     58\u001b[0m \u001b[39m    :return: Whether a model was generated\u001b[39;00m\n\u001b[0;32m     59\u001b[0m \u001b[39m    :rtype: bool\u001b[39;00m\n\u001b[0;32m     60\u001b[0m \u001b[39m    \"\"\"\u001b[39;00m\n\u001b[1;32m---> 61\u001b[0m     \u001b[39mreturn\u001b[39;00m \u001b[39mself\u001b[39;49m\u001b[39m.\u001b[39;49m_build_model(goal, assumptions, verbose)[\u001b[39m0\u001b[39m]\n",
      "File \u001b[1;32m~\\AppData\\Local\\Packages\\PythonSoftwareFoundation.Python.3.11_qbz5n2kfra8p0\\LocalCache\\local-packages\\Python311\\site-packages\\nltk\\inference\\mace.py:247\u001b[0m, in \u001b[0;36mMace._build_model\u001b[1;34m(self, goal, assumptions, verbose)\u001b[0m\n\u001b[0;32m    244\u001b[0m \u001b[39mif\u001b[39;00m \u001b[39mnot\u001b[39;00m assumptions:\n\u001b[0;32m    245\u001b[0m     assumptions \u001b[39m=\u001b[39m []\n\u001b[1;32m--> 247\u001b[0m stdout, returncode \u001b[39m=\u001b[39m \u001b[39mself\u001b[39;49m\u001b[39m.\u001b[39;49m_call_mace4(\n\u001b[0;32m    248\u001b[0m     \u001b[39mself\u001b[39;49m\u001b[39m.\u001b[39;49mprover9_input(goal, assumptions), verbose\u001b[39m=\u001b[39;49mverbose\n\u001b[0;32m    249\u001b[0m )\n\u001b[0;32m    250\u001b[0m \u001b[39mreturn\u001b[39;00m (returncode \u001b[39m==\u001b[39m \u001b[39m0\u001b[39m, stdout)\n",
      "File \u001b[1;32m~\\AppData\\Local\\Packages\\PythonSoftwareFoundation.Python.3.11_qbz5n2kfra8p0\\LocalCache\\local-packages\\Python311\\site-packages\\nltk\\inference\\mace.py:262\u001b[0m, in \u001b[0;36mMace._call_mace4\u001b[1;34m(self, input_str, args, verbose)\u001b[0m\n\u001b[0;32m    253\u001b[0m \u001b[39m\u001b[39m\u001b[39m\"\"\"\u001b[39;00m\n\u001b[0;32m    254\u001b[0m \u001b[39mCall the ``mace4`` binary with the given input.\u001b[39;00m\n\u001b[0;32m    255\u001b[0m \n\u001b[1;32m   (...)\u001b[0m\n\u001b[0;32m    259\u001b[0m \u001b[39m:see: ``config_prover9``\u001b[39;00m\n\u001b[0;32m    260\u001b[0m \u001b[39m\"\"\"\u001b[39;00m\n\u001b[0;32m    261\u001b[0m \u001b[39mif\u001b[39;00m \u001b[39mself\u001b[39m\u001b[39m.\u001b[39m_mace4_bin \u001b[39mis\u001b[39;00m \u001b[39mNone\u001b[39;00m:\n\u001b[1;32m--> 262\u001b[0m     \u001b[39mself\u001b[39m\u001b[39m.\u001b[39m_mace4_bin \u001b[39m=\u001b[39m \u001b[39mself\u001b[39;49m\u001b[39m.\u001b[39;49m_find_binary(\u001b[39m\"\u001b[39;49m\u001b[39mmace4\u001b[39;49m\u001b[39m\"\u001b[39;49m, verbose)\n\u001b[0;32m    264\u001b[0m updated_input_str \u001b[39m=\u001b[39m \u001b[39m\"\u001b[39m\u001b[39m\"\u001b[39m\n\u001b[0;32m    265\u001b[0m \u001b[39mif\u001b[39;00m \u001b[39mself\u001b[39m\u001b[39m.\u001b[39m_end_size \u001b[39m>\u001b[39m \u001b[39m0\u001b[39m:\n",
      "File \u001b[1;32m~\\AppData\\Local\\Packages\\PythonSoftwareFoundation.Python.3.11_qbz5n2kfra8p0\\LocalCache\\local-packages\\Python311\\site-packages\\nltk\\inference\\prover9.py:177\u001b[0m, in \u001b[0;36mProver9Parent._find_binary\u001b[1;34m(self, name, verbose)\u001b[0m\n\u001b[0;32m    175\u001b[0m \u001b[39mif\u001b[39;00m \u001b[39mself\u001b[39m\u001b[39m.\u001b[39m_binary_location \u001b[39mis\u001b[39;00m \u001b[39mnot\u001b[39;00m \u001b[39mNone\u001b[39;00m:\n\u001b[0;32m    176\u001b[0m     binary_locations \u001b[39m+\u001b[39m\u001b[39m=\u001b[39m [\u001b[39mself\u001b[39m\u001b[39m.\u001b[39m_binary_location]\n\u001b[1;32m--> 177\u001b[0m \u001b[39mreturn\u001b[39;00m nltk\u001b[39m.\u001b[39;49minternals\u001b[39m.\u001b[39;49mfind_binary(\n\u001b[0;32m    178\u001b[0m     name,\n\u001b[0;32m    179\u001b[0m     searchpath\u001b[39m=\u001b[39;49mbinary_locations,\n\u001b[0;32m    180\u001b[0m     env_vars\u001b[39m=\u001b[39;49m[\u001b[39m\"\u001b[39;49m\u001b[39mPROVER9\u001b[39;49m\u001b[39m\"\u001b[39;49m],\n\u001b[0;32m    181\u001b[0m     url\u001b[39m=\u001b[39;49m\u001b[39m\"\u001b[39;49m\u001b[39mhttps://www.cs.unm.edu/~mccune/prover9/\u001b[39;49m\u001b[39m\"\u001b[39;49m,\n\u001b[0;32m    182\u001b[0m     binary_names\u001b[39m=\u001b[39;49m[name, name \u001b[39m+\u001b[39;49m \u001b[39m\"\u001b[39;49m\u001b[39m.exe\u001b[39;49m\u001b[39m\"\u001b[39;49m],\n\u001b[0;32m    183\u001b[0m     verbose\u001b[39m=\u001b[39;49mverbose,\n\u001b[0;32m    184\u001b[0m )\n",
      "File \u001b[1;32m~\\AppData\\Local\\Packages\\PythonSoftwareFoundation.Python.3.11_qbz5n2kfra8p0\\LocalCache\\local-packages\\Python311\\site-packages\\nltk\\internals.py:675\u001b[0m, in \u001b[0;36mfind_binary\u001b[1;34m(name, path_to_bin, env_vars, searchpath, binary_names, url, verbose)\u001b[0m\n\u001b[0;32m    666\u001b[0m \u001b[39mdef\u001b[39;00m \u001b[39mfind_binary\u001b[39m(\n\u001b[0;32m    667\u001b[0m     name,\n\u001b[0;32m    668\u001b[0m     path_to_bin\u001b[39m=\u001b[39m\u001b[39mNone\u001b[39;00m,\n\u001b[1;32m   (...)\u001b[0m\n\u001b[0;32m    673\u001b[0m     verbose\u001b[39m=\u001b[39m\u001b[39mFalse\u001b[39;00m,\n\u001b[0;32m    674\u001b[0m ):\n\u001b[1;32m--> 675\u001b[0m     \u001b[39mreturn\u001b[39;00m \u001b[39mnext\u001b[39m(\n\u001b[0;32m    676\u001b[0m         find_binary_iter(\n\u001b[0;32m    677\u001b[0m             name, path_to_bin, env_vars, searchpath, binary_names, url, verbose\n\u001b[0;32m    678\u001b[0m         )\n\u001b[0;32m    679\u001b[0m     )\n",
      "File \u001b[1;32m~\\AppData\\Local\\Packages\\PythonSoftwareFoundation.Python.3.11_qbz5n2kfra8p0\\LocalCache\\local-packages\\Python311\\site-packages\\nltk\\internals.py:661\u001b[0m, in \u001b[0;36mfind_binary_iter\u001b[1;34m(name, path_to_bin, env_vars, searchpath, binary_names, url, verbose)\u001b[0m\n\u001b[0;32m    641\u001b[0m \u001b[39mdef\u001b[39;00m \u001b[39mfind_binary_iter\u001b[39m(\n\u001b[0;32m    642\u001b[0m     name,\n\u001b[0;32m    643\u001b[0m     path_to_bin\u001b[39m=\u001b[39m\u001b[39mNone\u001b[39;00m,\n\u001b[1;32m   (...)\u001b[0m\n\u001b[0;32m    648\u001b[0m     verbose\u001b[39m=\u001b[39m\u001b[39mFalse\u001b[39;00m,\n\u001b[0;32m    649\u001b[0m ):\n\u001b[0;32m    650\u001b[0m \u001b[39m    \u001b[39m\u001b[39m\"\"\"\u001b[39;00m\n\u001b[0;32m    651\u001b[0m \u001b[39m    Search for a file to be used by nltk.\u001b[39;00m\n\u001b[0;32m    652\u001b[0m \n\u001b[1;32m   (...)\u001b[0m\n\u001b[0;32m    659\u001b[0m \u001b[39m    :param verbose: Whether or not to print path when a file is found.\u001b[39;00m\n\u001b[0;32m    660\u001b[0m \u001b[39m    \"\"\"\u001b[39;00m\n\u001b[1;32m--> 661\u001b[0m     \u001b[39myield from\u001b[39;00m find_file_iter(\n\u001b[0;32m    662\u001b[0m         path_to_bin \u001b[39mor\u001b[39;00m name, env_vars, searchpath, binary_names, url, verbose\n\u001b[0;32m    663\u001b[0m     )\n",
      "File \u001b[1;32m~\\AppData\\Local\\Packages\\PythonSoftwareFoundation.Python.3.11_qbz5n2kfra8p0\\LocalCache\\local-packages\\Python311\\site-packages\\nltk\\internals.py:620\u001b[0m, in \u001b[0;36mfind_file_iter\u001b[1;34m(filename, env_vars, searchpath, file_names, url, verbose, finding_dir)\u001b[0m\n\u001b[0;32m    618\u001b[0m     msg \u001b[39m+\u001b[39m\u001b[39m=\u001b[39m \u001b[39mf\u001b[39m\u001b[39m\"\u001b[39m\u001b[39m\\n\u001b[39;00m\u001b[39m\\n\u001b[39;00m\u001b[39m  For more information on \u001b[39m\u001b[39m{\u001b[39;00mfilename\u001b[39m}\u001b[39;00m\u001b[39m, see:\u001b[39m\u001b[39m\\n\u001b[39;00m\u001b[39m    <\u001b[39m\u001b[39m{\u001b[39;00murl\u001b[39m}\u001b[39;00m\u001b[39m>\u001b[39m\u001b[39m\"\u001b[39m\n\u001b[0;32m    619\u001b[0m div \u001b[39m=\u001b[39m \u001b[39m\"\u001b[39m\u001b[39m=\u001b[39m\u001b[39m\"\u001b[39m \u001b[39m*\u001b[39m \u001b[39m75\u001b[39m\n\u001b[1;32m--> 620\u001b[0m \u001b[39mraise\u001b[39;00m \u001b[39mLookupError\u001b[39;00m(\u001b[39mf\u001b[39m\u001b[39m\"\u001b[39m\u001b[39m\\n\u001b[39;00m\u001b[39m\\n\u001b[39;00m\u001b[39m{\u001b[39;00mdiv\u001b[39m}\u001b[39;00m\u001b[39m\\n\u001b[39;00m\u001b[39m{\u001b[39;00mmsg\u001b[39m}\u001b[39;00m\u001b[39m\\n\u001b[39;00m\u001b[39m{\u001b[39;00mdiv\u001b[39m}\u001b[39;00m\u001b[39m\"\u001b[39m)\n",
      "\u001b[1;31mLookupError\u001b[0m: \n\n===========================================================================\nNLTK was unable to find the mace4 file!\nUse software specific configuration parameters or set the PROVER9 environment variable.\n\n  Searched in:\n    - /usr/local/bin/prover9\n    - /usr/local/bin/prover9/bin\n    - /usr/local/bin\n    - /usr/bin\n    - /usr/local/prover9\n    - /usr/local/share/prover9\n\n  For more information on mace4, see:\n    <https://www.cs.unm.edu/~mccune/prover9/>\n==========================================================================="
     ]
    }
   ],
   "source": [
    "a3 = read_expr('exists x.(man(x) & walks(x))')\n",
    "c1 = read_expr('mortal(socrates)')\n",
    "c2 = read_expr('-mortal(socrates)')\n",
    "mb = nltk.Mace(5)\n",
    "print(mb.build_model(None, [a3, c1]))"
   ]
  },
  {
   "cell_type": "code",
   "execution_count": 129,
   "metadata": {},
   "outputs": [],
   "source": [
    "print(mb.build_model(None, [a3, c2]))"
   ]
  },
  {
   "cell_type": "code",
   "execution_count": 131,
   "metadata": {},
   "outputs": [],
   "source": [
    "print(mb.build_model(None, [c1, c2]))"
   ]
  },
  {
   "cell_type": "code",
   "execution_count": 133,
   "metadata": {},
   "outputs": [],
   "source": [
    "a4 = read_expr('exists y. (woman(y) & all x. (man(x) -> love(x,y)))')\n",
    "a5 = read_expr('man(adam)')\n",
    "a6 = read_expr('woman(eve)')\n",
    "g = read_expr('love(adam,eve)')\n",
    "mc = nltk.MaceCommand(g, assumptions=[a4, a5, a6])\n",
    "mc.build_model()"
   ]
  },
  {
   "cell_type": "code",
   "execution_count": 135,
   "metadata": {},
   "outputs": [],
   "source": [
    "print(mc.valuation)"
   ]
  },
  {
   "cell_type": "code",
   "execution_count": 136,
   "metadata": {},
   "outputs": [
    {
     "ename": "LookupError",
     "evalue": "\n\n===========================================================================\nNLTK was unable to find the mace4 file!\nUse software specific configuration parameters or set the PROVER9 environment variable.\n\n  Searched in:\n    - /usr/local/bin/prover9\n    - /usr/local/bin/prover9/bin\n    - /usr/local/bin\n    - /usr/bin\n    - /usr/local/prover9\n    - /usr/local/share/prover9\n\n  For more information on mace4, see:\n    <https://www.cs.unm.edu/~mccune/prover9/>\n===========================================================================",
     "output_type": "error",
     "traceback": [
      "\u001b[1;31m---------------------------------------------------------------------------\u001b[0m",
      "\u001b[1;31mLookupError\u001b[0m                               Traceback (most recent call last)",
      "\u001b[1;32md:\\NLP Task\\Chapter-10.ipynb Cell 60\u001b[0m line \u001b[0;36m4\n\u001b[0;32m      <a href='vscode-notebook-cell:/d%3A/NLP%20Task/Chapter-10.ipynb#Y113sZmlsZQ%3D%3D?line=1'>2</a>\u001b[0m g \u001b[39m=\u001b[39m read_expr(\u001b[39m'\u001b[39m\u001b[39mlove(adam,eve)\u001b[39m\u001b[39m'\u001b[39m)\n\u001b[0;32m      <a href='vscode-notebook-cell:/d%3A/NLP%20Task/Chapter-10.ipynb#Y113sZmlsZQ%3D%3D?line=2'>3</a>\u001b[0m mc \u001b[39m=\u001b[39m nltk\u001b[39m.\u001b[39mMaceCommand(g, assumptions\u001b[39m=\u001b[39m[a4, a5, a6, a7])\n\u001b[1;32m----> <a href='vscode-notebook-cell:/d%3A/NLP%20Task/Chapter-10.ipynb#Y113sZmlsZQ%3D%3D?line=3'>4</a>\u001b[0m mc\u001b[39m.\u001b[39;49mbuild_model()\n",
      "File \u001b[1;32m~\\AppData\\Local\\Packages\\PythonSoftwareFoundation.Python.3.11_qbz5n2kfra8p0\\LocalCache\\local-packages\\Python311\\site-packages\\nltk\\inference\\api.py:340\u001b[0m, in \u001b[0;36mBaseModelBuilderCommand.build_model\u001b[1;34m(self, verbose)\u001b[0m\n\u001b[0;32m    335\u001b[0m \u001b[39m\u001b[39m\u001b[39m\"\"\"\u001b[39;00m\n\u001b[0;32m    336\u001b[0m \u001b[39mAttempt to build a model.  Store the result to prevent unnecessary\u001b[39;00m\n\u001b[0;32m    337\u001b[0m \u001b[39mre-building.\u001b[39;00m\n\u001b[0;32m    338\u001b[0m \u001b[39m\"\"\"\u001b[39;00m\n\u001b[0;32m    339\u001b[0m \u001b[39mif\u001b[39;00m \u001b[39mself\u001b[39m\u001b[39m.\u001b[39m_result \u001b[39mis\u001b[39;00m \u001b[39mNone\u001b[39;00m:\n\u001b[1;32m--> 340\u001b[0m     \u001b[39mself\u001b[39m\u001b[39m.\u001b[39m_result, \u001b[39mself\u001b[39m\u001b[39m.\u001b[39m_model \u001b[39m=\u001b[39m \u001b[39mself\u001b[39;49m\u001b[39m.\u001b[39;49m_modelbuilder\u001b[39m.\u001b[39;49m_build_model(\n\u001b[0;32m    341\u001b[0m         \u001b[39mself\u001b[39;49m\u001b[39m.\u001b[39;49mgoal(), \u001b[39mself\u001b[39;49m\u001b[39m.\u001b[39;49massumptions(), verbose\n\u001b[0;32m    342\u001b[0m     )\n\u001b[0;32m    343\u001b[0m \u001b[39mreturn\u001b[39;00m \u001b[39mself\u001b[39m\u001b[39m.\u001b[39m_result\n",
      "File \u001b[1;32m~\\AppData\\Local\\Packages\\PythonSoftwareFoundation.Python.3.11_qbz5n2kfra8p0\\LocalCache\\local-packages\\Python311\\site-packages\\nltk\\inference\\mace.py:247\u001b[0m, in \u001b[0;36mMace._build_model\u001b[1;34m(self, goal, assumptions, verbose)\u001b[0m\n\u001b[0;32m    244\u001b[0m \u001b[39mif\u001b[39;00m \u001b[39mnot\u001b[39;00m assumptions:\n\u001b[0;32m    245\u001b[0m     assumptions \u001b[39m=\u001b[39m []\n\u001b[1;32m--> 247\u001b[0m stdout, returncode \u001b[39m=\u001b[39m \u001b[39mself\u001b[39;49m\u001b[39m.\u001b[39;49m_call_mace4(\n\u001b[0;32m    248\u001b[0m     \u001b[39mself\u001b[39;49m\u001b[39m.\u001b[39;49mprover9_input(goal, assumptions), verbose\u001b[39m=\u001b[39;49mverbose\n\u001b[0;32m    249\u001b[0m )\n\u001b[0;32m    250\u001b[0m \u001b[39mreturn\u001b[39;00m (returncode \u001b[39m==\u001b[39m \u001b[39m0\u001b[39m, stdout)\n",
      "File \u001b[1;32m~\\AppData\\Local\\Packages\\PythonSoftwareFoundation.Python.3.11_qbz5n2kfra8p0\\LocalCache\\local-packages\\Python311\\site-packages\\nltk\\inference\\mace.py:262\u001b[0m, in \u001b[0;36mMace._call_mace4\u001b[1;34m(self, input_str, args, verbose)\u001b[0m\n\u001b[0;32m    253\u001b[0m \u001b[39m\u001b[39m\u001b[39m\"\"\"\u001b[39;00m\n\u001b[0;32m    254\u001b[0m \u001b[39mCall the ``mace4`` binary with the given input.\u001b[39;00m\n\u001b[0;32m    255\u001b[0m \n\u001b[1;32m   (...)\u001b[0m\n\u001b[0;32m    259\u001b[0m \u001b[39m:see: ``config_prover9``\u001b[39;00m\n\u001b[0;32m    260\u001b[0m \u001b[39m\"\"\"\u001b[39;00m\n\u001b[0;32m    261\u001b[0m \u001b[39mif\u001b[39;00m \u001b[39mself\u001b[39m\u001b[39m.\u001b[39m_mace4_bin \u001b[39mis\u001b[39;00m \u001b[39mNone\u001b[39;00m:\n\u001b[1;32m--> 262\u001b[0m     \u001b[39mself\u001b[39m\u001b[39m.\u001b[39m_mace4_bin \u001b[39m=\u001b[39m \u001b[39mself\u001b[39;49m\u001b[39m.\u001b[39;49m_find_binary(\u001b[39m\"\u001b[39;49m\u001b[39mmace4\u001b[39;49m\u001b[39m\"\u001b[39;49m, verbose)\n\u001b[0;32m    264\u001b[0m updated_input_str \u001b[39m=\u001b[39m \u001b[39m\"\u001b[39m\u001b[39m\"\u001b[39m\n\u001b[0;32m    265\u001b[0m \u001b[39mif\u001b[39;00m \u001b[39mself\u001b[39m\u001b[39m.\u001b[39m_end_size \u001b[39m>\u001b[39m \u001b[39m0\u001b[39m:\n",
      "File \u001b[1;32m~\\AppData\\Local\\Packages\\PythonSoftwareFoundation.Python.3.11_qbz5n2kfra8p0\\LocalCache\\local-packages\\Python311\\site-packages\\nltk\\inference\\prover9.py:177\u001b[0m, in \u001b[0;36mProver9Parent._find_binary\u001b[1;34m(self, name, verbose)\u001b[0m\n\u001b[0;32m    175\u001b[0m \u001b[39mif\u001b[39;00m \u001b[39mself\u001b[39m\u001b[39m.\u001b[39m_binary_location \u001b[39mis\u001b[39;00m \u001b[39mnot\u001b[39;00m \u001b[39mNone\u001b[39;00m:\n\u001b[0;32m    176\u001b[0m     binary_locations \u001b[39m+\u001b[39m\u001b[39m=\u001b[39m [\u001b[39mself\u001b[39m\u001b[39m.\u001b[39m_binary_location]\n\u001b[1;32m--> 177\u001b[0m \u001b[39mreturn\u001b[39;00m nltk\u001b[39m.\u001b[39;49minternals\u001b[39m.\u001b[39;49mfind_binary(\n\u001b[0;32m    178\u001b[0m     name,\n\u001b[0;32m    179\u001b[0m     searchpath\u001b[39m=\u001b[39;49mbinary_locations,\n\u001b[0;32m    180\u001b[0m     env_vars\u001b[39m=\u001b[39;49m[\u001b[39m\"\u001b[39;49m\u001b[39mPROVER9\u001b[39;49m\u001b[39m\"\u001b[39;49m],\n\u001b[0;32m    181\u001b[0m     url\u001b[39m=\u001b[39;49m\u001b[39m\"\u001b[39;49m\u001b[39mhttps://www.cs.unm.edu/~mccune/prover9/\u001b[39;49m\u001b[39m\"\u001b[39;49m,\n\u001b[0;32m    182\u001b[0m     binary_names\u001b[39m=\u001b[39;49m[name, name \u001b[39m+\u001b[39;49m \u001b[39m\"\u001b[39;49m\u001b[39m.exe\u001b[39;49m\u001b[39m\"\u001b[39;49m],\n\u001b[0;32m    183\u001b[0m     verbose\u001b[39m=\u001b[39;49mverbose,\n\u001b[0;32m    184\u001b[0m )\n",
      "File \u001b[1;32m~\\AppData\\Local\\Packages\\PythonSoftwareFoundation.Python.3.11_qbz5n2kfra8p0\\LocalCache\\local-packages\\Python311\\site-packages\\nltk\\internals.py:675\u001b[0m, in \u001b[0;36mfind_binary\u001b[1;34m(name, path_to_bin, env_vars, searchpath, binary_names, url, verbose)\u001b[0m\n\u001b[0;32m    666\u001b[0m \u001b[39mdef\u001b[39;00m \u001b[39mfind_binary\u001b[39m(\n\u001b[0;32m    667\u001b[0m     name,\n\u001b[0;32m    668\u001b[0m     path_to_bin\u001b[39m=\u001b[39m\u001b[39mNone\u001b[39;00m,\n\u001b[1;32m   (...)\u001b[0m\n\u001b[0;32m    673\u001b[0m     verbose\u001b[39m=\u001b[39m\u001b[39mFalse\u001b[39;00m,\n\u001b[0;32m    674\u001b[0m ):\n\u001b[1;32m--> 675\u001b[0m     \u001b[39mreturn\u001b[39;00m \u001b[39mnext\u001b[39m(\n\u001b[0;32m    676\u001b[0m         find_binary_iter(\n\u001b[0;32m    677\u001b[0m             name, path_to_bin, env_vars, searchpath, binary_names, url, verbose\n\u001b[0;32m    678\u001b[0m         )\n\u001b[0;32m    679\u001b[0m     )\n",
      "File \u001b[1;32m~\\AppData\\Local\\Packages\\PythonSoftwareFoundation.Python.3.11_qbz5n2kfra8p0\\LocalCache\\local-packages\\Python311\\site-packages\\nltk\\internals.py:661\u001b[0m, in \u001b[0;36mfind_binary_iter\u001b[1;34m(name, path_to_bin, env_vars, searchpath, binary_names, url, verbose)\u001b[0m\n\u001b[0;32m    641\u001b[0m \u001b[39mdef\u001b[39;00m \u001b[39mfind_binary_iter\u001b[39m(\n\u001b[0;32m    642\u001b[0m     name,\n\u001b[0;32m    643\u001b[0m     path_to_bin\u001b[39m=\u001b[39m\u001b[39mNone\u001b[39;00m,\n\u001b[1;32m   (...)\u001b[0m\n\u001b[0;32m    648\u001b[0m     verbose\u001b[39m=\u001b[39m\u001b[39mFalse\u001b[39;00m,\n\u001b[0;32m    649\u001b[0m ):\n\u001b[0;32m    650\u001b[0m \u001b[39m    \u001b[39m\u001b[39m\"\"\"\u001b[39;00m\n\u001b[0;32m    651\u001b[0m \u001b[39m    Search for a file to be used by nltk.\u001b[39;00m\n\u001b[0;32m    652\u001b[0m \n\u001b[1;32m   (...)\u001b[0m\n\u001b[0;32m    659\u001b[0m \u001b[39m    :param verbose: Whether or not to print path when a file is found.\u001b[39;00m\n\u001b[0;32m    660\u001b[0m \u001b[39m    \"\"\"\u001b[39;00m\n\u001b[1;32m--> 661\u001b[0m     \u001b[39myield from\u001b[39;00m find_file_iter(\n\u001b[0;32m    662\u001b[0m         path_to_bin \u001b[39mor\u001b[39;00m name, env_vars, searchpath, binary_names, url, verbose\n\u001b[0;32m    663\u001b[0m     )\n",
      "File \u001b[1;32m~\\AppData\\Local\\Packages\\PythonSoftwareFoundation.Python.3.11_qbz5n2kfra8p0\\LocalCache\\local-packages\\Python311\\site-packages\\nltk\\internals.py:620\u001b[0m, in \u001b[0;36mfind_file_iter\u001b[1;34m(filename, env_vars, searchpath, file_names, url, verbose, finding_dir)\u001b[0m\n\u001b[0;32m    618\u001b[0m     msg \u001b[39m+\u001b[39m\u001b[39m=\u001b[39m \u001b[39mf\u001b[39m\u001b[39m\"\u001b[39m\u001b[39m\\n\u001b[39;00m\u001b[39m\\n\u001b[39;00m\u001b[39m  For more information on \u001b[39m\u001b[39m{\u001b[39;00mfilename\u001b[39m}\u001b[39;00m\u001b[39m, see:\u001b[39m\u001b[39m\\n\u001b[39;00m\u001b[39m    <\u001b[39m\u001b[39m{\u001b[39;00murl\u001b[39m}\u001b[39;00m\u001b[39m>\u001b[39m\u001b[39m\"\u001b[39m\n\u001b[0;32m    619\u001b[0m div \u001b[39m=\u001b[39m \u001b[39m\"\u001b[39m\u001b[39m=\u001b[39m\u001b[39m\"\u001b[39m \u001b[39m*\u001b[39m \u001b[39m75\u001b[39m\n\u001b[1;32m--> 620\u001b[0m \u001b[39mraise\u001b[39;00m \u001b[39mLookupError\u001b[39;00m(\u001b[39mf\u001b[39m\u001b[39m\"\u001b[39m\u001b[39m\\n\u001b[39;00m\u001b[39m\\n\u001b[39;00m\u001b[39m{\u001b[39;00mdiv\u001b[39m}\u001b[39;00m\u001b[39m\\n\u001b[39;00m\u001b[39m{\u001b[39;00mmsg\u001b[39m}\u001b[39;00m\u001b[39m\\n\u001b[39;00m\u001b[39m{\u001b[39;00mdiv\u001b[39m}\u001b[39;00m\u001b[39m\"\u001b[39m)\n",
      "\u001b[1;31mLookupError\u001b[0m: \n\n===========================================================================\nNLTK was unable to find the mace4 file!\nUse software specific configuration parameters or set the PROVER9 environment variable.\n\n  Searched in:\n    - /usr/local/bin/prover9\n    - /usr/local/bin/prover9/bin\n    - /usr/local/bin\n    - /usr/bin\n    - /usr/local/prover9\n    - /usr/local/share/prover9\n\n  For more information on mace4, see:\n    <https://www.cs.unm.edu/~mccune/prover9/>\n==========================================================================="
     ]
    }
   ],
   "source": [
    "a7 = read_expr('all x. (man(x) -> -woman(x))')\n",
    "g = read_expr('love(adam,eve)')\n",
    "mc = nltk.MaceCommand(g, assumptions=[a4, a5, a6, a7])\n",
    "mc.build_model()"
   ]
  },
  {
   "cell_type": "code",
   "execution_count": null,
   "metadata": {},
   "outputs": [],
   "source": [
    "print(mc.valuation)"
   ]
  },
  {
   "cell_type": "code",
   "execution_count": null,
   "metadata": {},
   "outputs": [],
   "source": [
    "read_expr = nltk.sem.Expression.fromstring\n",
    "expr = read_expr(r'\\x.(walk(x) & chew_gum(x))')\n",
    "expr"
   ]
  },
  {
   "cell_type": "code",
   "execution_count": null,
   "metadata": {},
   "outputs": [],
   "source": [
    "expr.free()"
   ]
  },
  {
   "cell_type": "code",
   "execution_count": null,
   "metadata": {},
   "outputs": [],
   "source": [
    "print(read_expr(r'\\x.(walk(x) & chew_gum(y))'))"
   ]
  },
  {
   "cell_type": "code",
   "execution_count": null,
   "metadata": {},
   "outputs": [],
   "source": [
    "expr = read_expr(r'\\x.(walk(x) & chew_gum(x))(gerald)')\n",
    "print(expr)"
   ]
  },
  {
   "cell_type": "code",
   "execution_count": null,
   "metadata": {},
   "outputs": [],
   "source": [
    "print(expr.simplify())"
   ]
  },
  {
   "cell_type": "code",
   "execution_count": null,
   "metadata": {},
   "outputs": [],
   "source": [
    "print(read_expr(r'\\x.\\y.(dog(x) & own(y, x))(cyril)').simplify())"
   ]
  },
  {
   "cell_type": "code",
   "execution_count": null,
   "metadata": {},
   "outputs": [],
   "source": [
    "print(read_expr(r'\\x y.(dog(x) & own(y, x))(cyril, angus)').simplify())"
   ]
  },
  {
   "cell_type": "code",
   "execution_count": null,
   "metadata": {},
   "outputs": [],
   "source": [
    "expr1 = read_expr('exists x.P(x)')\n",
    "print(expr1)"
   ]
  },
  {
   "cell_type": "code",
   "execution_count": null,
   "metadata": {},
   "outputs": [],
   "source": [
    "expr2 = expr1.alpha_convert(nltk.sem.Variable('z'))\n",
    "print(expr2)"
   ]
  },
  {
   "cell_type": "code",
   "execution_count": null,
   "metadata": {},
   "outputs": [],
   "source": [
    "expr1 == expr2"
   ]
  },
  {
   "cell_type": "code",
   "execution_count": null,
   "metadata": {},
   "outputs": [],
   "source": [
    "expr3 = read_expr('\\P.(exists x.P(x))(\\y.see(y, x))')\n",
    "print(expr3)"
   ]
  },
  {
   "cell_type": "code",
   "execution_count": null,
   "metadata": {},
   "outputs": [],
   "source": [
    "print(expr3.simplify())"
   ]
  },
  {
   "cell_type": "code",
   "execution_count": null,
   "metadata": {},
   "outputs": [],
   "source": [
    "read_expr = nltk.sem.Expression.fromstring\n",
    "tvp = read_expr(r'\\X x.X(\\y.chase(x,y))')\n",
    "np = read_expr(r'(\\P.exists x.(dog(x) & P(x)))')\n",
    "vp = nltk.sem.ApplicationExpression(tvp, np)\n",
    "print(vp)"
   ]
  },
  {
   "cell_type": "code",
   "execution_count": null,
   "metadata": {},
   "outputs": [],
   "source": [
    "print(vp.simplify())"
   ]
  },
  {
   "cell_type": "code",
   "execution_count": null,
   "metadata": {},
   "outputs": [],
   "source": [
    "from nltk import load_parser\n",
    "parser = load_parser('grammars/book_grammars/simple-sem.fcfg', trace=0)\n",
    "sentence = 'Angus gives a bone to every dog'\n",
    "tokens = sentence.split()\n",
    "for tree in parser.parse(tokens):\n",
    "    print(tree.label()['SEM'])"
   ]
  },
  {
   "cell_type": "code",
   "execution_count": null,
   "metadata": {},
   "outputs": [],
   "source": [
    "sents = ['Irene walks', 'Cyril bites an ankle']\n",
    "grammar_file = 'grammars/book_grammars/simple-sem.fcfg'\n",
    "for results in nltk.interpret_sents(sents, grammar_file):\n",
    "    for (synrep, semrep) in results:\n",
    "        print(synrep)"
   ]
  },
  {
   "cell_type": "code",
   "execution_count": null,
   "metadata": {},
   "outputs": [],
   "source": [
    "v = \"\"\"\n",
    "bertie => b\n",
    "olive => o\n",
    "cyril => c\n",
    "boy => {b}\n",
    "girl => {o}\n",
    "dog => {c}\n",
    "walk => {o, c}\n",
    "see => {(b, o), (c, b), (o, c)}\n",
    "\"\"\"\n",
    "val = nltk.Valuation.fromstring(v)\n",
    "g = nltk.Assignment(val.domain)\n",
    "m = nltk.Model(val.domain, val)\n",
    "sent = 'Cyril sees every boy'\n",
    "grammar_file = 'grammars/book_grammars/simple-sem.fcfg'\n",
    "results = nltk.evaluate_sents([sent], grammar_file, m, g)[0]\n",
    "for (syntree, semrep, value) in results:\n",
    "    print(semrep)\n",
    "    print(value)"
   ]
  },
  {
   "cell_type": "code",
   "execution_count": 138,
   "metadata": {},
   "outputs": [
    {
     "name": "stdout",
     "output_type": "stream",
     "text": [
      "chase(z2,z4)\n"
     ]
    }
   ],
   "source": [
    "from nltk.sem import cooper_storage as cs\n",
    "sentence = 'every girl chases a dog'\n",
    "trees = cs.parse_with_bindops(sentence, grammar='grammars/book_grammars/storage.fcfg')\n",
    "semrep = trees[0].label()['SEM']\n",
    "cs_semrep = cs.CooperStore(semrep)\n",
    "print(cs_semrep.core)"
   ]
  },
  {
   "cell_type": "code",
   "execution_count": 139,
   "metadata": {},
   "outputs": [
    {
     "name": "stdout",
     "output_type": "stream",
     "text": [
      "bo(\\P.all x.(girl(x) -> P(x)),z2)\n",
      "bo(\\P.exists x.(dog(x) & P(x)),z4)\n"
     ]
    }
   ],
   "source": [
    "for bo in cs_semrep.store:\n",
    "    print(bo)"
   ]
  },
  {
   "cell_type": "code",
   "execution_count": 140,
   "metadata": {},
   "outputs": [
    {
     "name": "stdout",
     "output_type": "stream",
     "text": [
      "Permutation 1\n",
      "   (\\P.all x.(girl(x) -> P(x)))(\\z2.chase(z2,z4))\n",
      "   (\\P.exists x.(dog(x) & P(x)))(\\z4.all x.(girl(x) -> chase(x,z4)))\n",
      "Permutation 2\n",
      "   (\\P.exists x.(dog(x) & P(x)))(\\z4.chase(z2,z4))\n",
      "   (\\P.all x.(girl(x) -> P(x)))(\\z2.exists x.(dog(x) & chase(z2,x)))\n"
     ]
    }
   ],
   "source": [
    "cs_semrep.s_retrieve(trace=True)"
   ]
  },
  {
   "cell_type": "code",
   "execution_count": 141,
   "metadata": {},
   "outputs": [
    {
     "name": "stdout",
     "output_type": "stream",
     "text": [
      "exists x.(dog(x) & all z3.(girl(z3) -> chase(z3,x)))\n",
      "all x.(girl(x) -> exists z4.(dog(z4) & chase(x,z4)))\n"
     ]
    }
   ],
   "source": [
    "for reading in cs_semrep.readings:\n",
    "    print(reading)"
   ]
  },
  {
   "cell_type": "code",
   "execution_count": 142,
   "metadata": {},
   "outputs": [
    {
     "name": "stdout",
     "output_type": "stream",
     "text": [
      "([x,y],[angus(x), dog(y), own(x,y)])\n"
     ]
    }
   ],
   "source": [
    "read_dexpr = nltk.sem.DrtExpression.fromstring\n",
    "drs1 = read_dexpr('([x, y], [angus(x), dog(y), own(x, y)])')\n",
    "print(drs1)"
   ]
  },
  {
   "cell_type": "code",
   "execution_count": 143,
   "metadata": {},
   "outputs": [],
   "source": [
    "drs1.draw()"
   ]
  },
  {
   "cell_type": "code",
   "execution_count": 144,
   "metadata": {},
   "outputs": [
    {
     "name": "stdout",
     "output_type": "stream",
     "text": [
      "exists x y.(angus(x) & dog(y) & own(x,y))\n"
     ]
    }
   ],
   "source": [
    "print(drs1.fol())"
   ]
  },
  {
   "cell_type": "code",
   "execution_count": 145,
   "metadata": {},
   "outputs": [
    {
     "name": "stdout",
     "output_type": "stream",
     "text": [
      "(([x],[walk(x)]) + ([y],[run(y)]))\n"
     ]
    }
   ],
   "source": [
    "drs2 = read_dexpr('([x], [walk(x)]) + ([y], [run(y)])')\n",
    "print(drs2)"
   ]
  },
  {
   "cell_type": "code",
   "execution_count": 146,
   "metadata": {},
   "outputs": [
    {
     "name": "stdout",
     "output_type": "stream",
     "text": [
      "([x,y],[walk(x), run(y)])\n"
     ]
    }
   ],
   "source": [
    "print(drs2.simplify())"
   ]
  },
  {
   "cell_type": "code",
   "execution_count": 147,
   "metadata": {},
   "outputs": [
    {
     "name": "stdout",
     "output_type": "stream",
     "text": [
      "all x.(dog(x) -> exists y.(ankle(y) & bite(x,y)))\n"
     ]
    }
   ],
   "source": [
    "drs3 = read_dexpr('([], [(([x], [dog(x)]) -> ([y],[ankle(y), bite(x, y)]))])')\n",
    "print(drs3.fol())"
   ]
  },
  {
   "cell_type": "code",
   "execution_count": 148,
   "metadata": {},
   "outputs": [
    {
     "name": "stdout",
     "output_type": "stream",
     "text": [
      "([u,x,y,z],[angus(x), dog(y), own(x,y), PRO(u), irene(z), bite(u,z)])\n"
     ]
    }
   ],
   "source": [
    "drs4 = read_dexpr('([x, y], [angus(x), dog(y), own(x, y)])')\n",
    "drs5 = read_dexpr('([u, z], [PRO(u), irene(z), bite(u, z)])')\n",
    "drs6 = drs4 + drs5\n",
    "print(drs6.simplify())"
   ]
  },
  {
   "cell_type": "code",
   "execution_count": 149,
   "metadata": {},
   "outputs": [
    {
     "name": "stdout",
     "output_type": "stream",
     "text": [
      "([u,x,y,z],[angus(x), dog(y), own(x,y), (u = [x,y,z]), irene(z), bite(u,z)])\n"
     ]
    }
   ],
   "source": [
    "print(drs6.simplify().resolve_anaphora())"
   ]
  },
  {
   "cell_type": "code",
   "execution_count": 150,
   "metadata": {},
   "outputs": [
    {
     "name": "stdout",
     "output_type": "stream",
     "text": [
      "([x,z6],[Angus(x), dog(z6), own(x,z6)])\n"
     ]
    }
   ],
   "source": [
    "from nltk import load_parser\n",
    "parser = load_parser('grammars/book_grammars/drt.fcfg', logic_parser=nltk.sem.drt.DrtParser())\n",
    "trees = list(parser.parse('Angus owns a dog'.split()))\n",
    "print(trees[0].label()['SEM'].simplify())"
   ]
  },
  {
   "cell_type": "code",
   "execution_count": 151,
   "metadata": {},
   "outputs": [
    {
     "ename": "LookupError",
     "evalue": "\n\n===========================================================================\nNLTK was unable to find the mace4 file!\nUse software specific configuration parameters or set the PROVER9 environment variable.\n\n  Searched in:\n    - /usr/local/bin/prover9\n    - /usr/local/bin/prover9/bin\n    - /usr/local/bin\n    - /usr/bin\n    - /usr/local/prover9\n    - /usr/local/share/prover9\n\n  For more information on mace4, see:\n    <https://www.cs.unm.edu/~mccune/prover9/>\n===========================================================================",
     "output_type": "error",
     "traceback": [
      "\u001b[1;31m---------------------------------------------------------------------------\u001b[0m",
      "\u001b[1;31mLookupError\u001b[0m                               Traceback (most recent call last)",
      "\u001b[1;32md:\\NLP Task\\Chapter-10.ipynb Cell 92\u001b[0m line \u001b[0;36m2\n\u001b[0;32m      <a href='vscode-notebook-cell:/d%3A/NLP%20Task/Chapter-10.ipynb#Y160sZmlsZQ%3D%3D?line=0'>1</a>\u001b[0m dt \u001b[39m=\u001b[39m nltk\u001b[39m.\u001b[39mDiscourseTester([\u001b[39m'\u001b[39m\u001b[39mA student dances\u001b[39m\u001b[39m'\u001b[39m, \u001b[39m'\u001b[39m\u001b[39mEvery student is a person\u001b[39m\u001b[39m'\u001b[39m])\n\u001b[1;32m----> <a href='vscode-notebook-cell:/d%3A/NLP%20Task/Chapter-10.ipynb#Y160sZmlsZQ%3D%3D?line=1'>2</a>\u001b[0m dt\u001b[39m.\u001b[39;49mreadings()\n",
      "File \u001b[1;32m~\\AppData\\Local\\Packages\\PythonSoftwareFoundation.Python.3.11_qbz5n2kfra8p0\\LocalCache\\local-packages\\Python311\\site-packages\\nltk\\inference\\discourse.py:375\u001b[0m, in \u001b[0;36mDiscourseTester.readings\u001b[1;34m(self, sentence, threaded, verbose, filter, show_thread_readings)\u001b[0m\n\u001b[0;32m    366\u001b[0m \u001b[39m\u001b[39m\u001b[39m\"\"\"\u001b[39;00m\n\u001b[0;32m    367\u001b[0m \u001b[39mConstruct and show the readings of the discourse (or of a single sentence).\u001b[39;00m\n\u001b[0;32m    368\u001b[0m \n\u001b[1;32m   (...)\u001b[0m\n\u001b[0;32m    372\u001b[0m \u001b[39m:param filter: if ``True``, only print out consistent thread IDs and threads.\u001b[39;00m\n\u001b[0;32m    373\u001b[0m \u001b[39m\"\"\"\u001b[39;00m\n\u001b[0;32m    374\u001b[0m \u001b[39mself\u001b[39m\u001b[39m.\u001b[39m_construct_readings()\n\u001b[1;32m--> 375\u001b[0m \u001b[39mself\u001b[39;49m\u001b[39m.\u001b[39;49m_construct_threads()\n\u001b[0;32m    377\u001b[0m \u001b[39m# if we are filtering or showing thread readings, show threads\u001b[39;00m\n\u001b[0;32m    378\u001b[0m \u001b[39mif\u001b[39;00m \u001b[39mfilter\u001b[39m \u001b[39mor\u001b[39;00m show_thread_readings:\n",
      "File \u001b[1;32m~\\AppData\\Local\\Packages\\PythonSoftwareFoundation.Python.3.11_qbz5n2kfra8p0\\LocalCache\\local-packages\\Python311\\site-packages\\nltk\\inference\\discourse.py:314\u001b[0m, in \u001b[0;36mDiscourseTester._construct_threads\u001b[1;34m(self)\u001b[0m\n\u001b[0;32m    312\u001b[0m \u001b[39mself\u001b[39m\u001b[39m.\u001b[39m_filtered_threads \u001b[39m=\u001b[39m {}\n\u001b[0;32m    313\u001b[0m \u001b[39m# keep the same ids, but only include threads which get models\u001b[39;00m\n\u001b[1;32m--> 314\u001b[0m consistency_checked \u001b[39m=\u001b[39m \u001b[39mself\u001b[39;49m\u001b[39m.\u001b[39;49m_check_consistency(\u001b[39mself\u001b[39;49m\u001b[39m.\u001b[39;49m_threads)\n\u001b[0;32m    315\u001b[0m \u001b[39mfor\u001b[39;00m (tid, thread) \u001b[39min\u001b[39;00m \u001b[39mself\u001b[39m\u001b[39m.\u001b[39m_threads\u001b[39m.\u001b[39mitems():\n\u001b[0;32m    316\u001b[0m     \u001b[39mif\u001b[39;00m (tid, \u001b[39mTrue\u001b[39;00m) \u001b[39min\u001b[39;00m consistency_checked:\n",
      "File \u001b[1;32m~\\AppData\\Local\\Packages\\PythonSoftwareFoundation.Python.3.11_qbz5n2kfra8p0\\LocalCache\\local-packages\\Python311\\site-packages\\nltk\\inference\\discourse.py:428\u001b[0m, in \u001b[0;36mDiscourseTester._check_consistency\u001b[1;34m(self, threads, show, verbose)\u001b[0m\n\u001b[0;32m    426\u001b[0m     \u001b[39m# if Mace4 finds a model, it always seems to find it quickly\u001b[39;00m\n\u001b[0;32m    427\u001b[0m     mb \u001b[39m=\u001b[39m MaceCommand(\u001b[39mNone\u001b[39;00m, assumptions, max_models\u001b[39m=\u001b[39m\u001b[39m20\u001b[39m)\n\u001b[1;32m--> 428\u001b[0m     modelfound \u001b[39m=\u001b[39m mb\u001b[39m.\u001b[39;49mbuild_model()\n\u001b[0;32m    429\u001b[0m \u001b[39melse\u001b[39;00m:\n\u001b[0;32m    430\u001b[0m     modelfound \u001b[39m=\u001b[39m \u001b[39mFalse\u001b[39;00m\n",
      "File \u001b[1;32m~\\AppData\\Local\\Packages\\PythonSoftwareFoundation.Python.3.11_qbz5n2kfra8p0\\LocalCache\\local-packages\\Python311\\site-packages\\nltk\\inference\\api.py:340\u001b[0m, in \u001b[0;36mBaseModelBuilderCommand.build_model\u001b[1;34m(self, verbose)\u001b[0m\n\u001b[0;32m    335\u001b[0m \u001b[39m\u001b[39m\u001b[39m\"\"\"\u001b[39;00m\n\u001b[0;32m    336\u001b[0m \u001b[39mAttempt to build a model.  Store the result to prevent unnecessary\u001b[39;00m\n\u001b[0;32m    337\u001b[0m \u001b[39mre-building.\u001b[39;00m\n\u001b[0;32m    338\u001b[0m \u001b[39m\"\"\"\u001b[39;00m\n\u001b[0;32m    339\u001b[0m \u001b[39mif\u001b[39;00m \u001b[39mself\u001b[39m\u001b[39m.\u001b[39m_result \u001b[39mis\u001b[39;00m \u001b[39mNone\u001b[39;00m:\n\u001b[1;32m--> 340\u001b[0m     \u001b[39mself\u001b[39m\u001b[39m.\u001b[39m_result, \u001b[39mself\u001b[39m\u001b[39m.\u001b[39m_model \u001b[39m=\u001b[39m \u001b[39mself\u001b[39;49m\u001b[39m.\u001b[39;49m_modelbuilder\u001b[39m.\u001b[39;49m_build_model(\n\u001b[0;32m    341\u001b[0m         \u001b[39mself\u001b[39;49m\u001b[39m.\u001b[39;49mgoal(), \u001b[39mself\u001b[39;49m\u001b[39m.\u001b[39;49massumptions(), verbose\n\u001b[0;32m    342\u001b[0m     )\n\u001b[0;32m    343\u001b[0m \u001b[39mreturn\u001b[39;00m \u001b[39mself\u001b[39m\u001b[39m.\u001b[39m_result\n",
      "File \u001b[1;32m~\\AppData\\Local\\Packages\\PythonSoftwareFoundation.Python.3.11_qbz5n2kfra8p0\\LocalCache\\local-packages\\Python311\\site-packages\\nltk\\inference\\mace.py:247\u001b[0m, in \u001b[0;36mMace._build_model\u001b[1;34m(self, goal, assumptions, verbose)\u001b[0m\n\u001b[0;32m    244\u001b[0m \u001b[39mif\u001b[39;00m \u001b[39mnot\u001b[39;00m assumptions:\n\u001b[0;32m    245\u001b[0m     assumptions \u001b[39m=\u001b[39m []\n\u001b[1;32m--> 247\u001b[0m stdout, returncode \u001b[39m=\u001b[39m \u001b[39mself\u001b[39;49m\u001b[39m.\u001b[39;49m_call_mace4(\n\u001b[0;32m    248\u001b[0m     \u001b[39mself\u001b[39;49m\u001b[39m.\u001b[39;49mprover9_input(goal, assumptions), verbose\u001b[39m=\u001b[39;49mverbose\n\u001b[0;32m    249\u001b[0m )\n\u001b[0;32m    250\u001b[0m \u001b[39mreturn\u001b[39;00m (returncode \u001b[39m==\u001b[39m \u001b[39m0\u001b[39m, stdout)\n",
      "File \u001b[1;32m~\\AppData\\Local\\Packages\\PythonSoftwareFoundation.Python.3.11_qbz5n2kfra8p0\\LocalCache\\local-packages\\Python311\\site-packages\\nltk\\inference\\mace.py:262\u001b[0m, in \u001b[0;36mMace._call_mace4\u001b[1;34m(self, input_str, args, verbose)\u001b[0m\n\u001b[0;32m    253\u001b[0m \u001b[39m\u001b[39m\u001b[39m\"\"\"\u001b[39;00m\n\u001b[0;32m    254\u001b[0m \u001b[39mCall the ``mace4`` binary with the given input.\u001b[39;00m\n\u001b[0;32m    255\u001b[0m \n\u001b[1;32m   (...)\u001b[0m\n\u001b[0;32m    259\u001b[0m \u001b[39m:see: ``config_prover9``\u001b[39;00m\n\u001b[0;32m    260\u001b[0m \u001b[39m\"\"\"\u001b[39;00m\n\u001b[0;32m    261\u001b[0m \u001b[39mif\u001b[39;00m \u001b[39mself\u001b[39m\u001b[39m.\u001b[39m_mace4_bin \u001b[39mis\u001b[39;00m \u001b[39mNone\u001b[39;00m:\n\u001b[1;32m--> 262\u001b[0m     \u001b[39mself\u001b[39m\u001b[39m.\u001b[39m_mace4_bin \u001b[39m=\u001b[39m \u001b[39mself\u001b[39;49m\u001b[39m.\u001b[39;49m_find_binary(\u001b[39m\"\u001b[39;49m\u001b[39mmace4\u001b[39;49m\u001b[39m\"\u001b[39;49m, verbose)\n\u001b[0;32m    264\u001b[0m updated_input_str \u001b[39m=\u001b[39m \u001b[39m\"\u001b[39m\u001b[39m\"\u001b[39m\n\u001b[0;32m    265\u001b[0m \u001b[39mif\u001b[39;00m \u001b[39mself\u001b[39m\u001b[39m.\u001b[39m_end_size \u001b[39m>\u001b[39m \u001b[39m0\u001b[39m:\n",
      "File \u001b[1;32m~\\AppData\\Local\\Packages\\PythonSoftwareFoundation.Python.3.11_qbz5n2kfra8p0\\LocalCache\\local-packages\\Python311\\site-packages\\nltk\\inference\\prover9.py:177\u001b[0m, in \u001b[0;36mProver9Parent._find_binary\u001b[1;34m(self, name, verbose)\u001b[0m\n\u001b[0;32m    175\u001b[0m \u001b[39mif\u001b[39;00m \u001b[39mself\u001b[39m\u001b[39m.\u001b[39m_binary_location \u001b[39mis\u001b[39;00m \u001b[39mnot\u001b[39;00m \u001b[39mNone\u001b[39;00m:\n\u001b[0;32m    176\u001b[0m     binary_locations \u001b[39m+\u001b[39m\u001b[39m=\u001b[39m [\u001b[39mself\u001b[39m\u001b[39m.\u001b[39m_binary_location]\n\u001b[1;32m--> 177\u001b[0m \u001b[39mreturn\u001b[39;00m nltk\u001b[39m.\u001b[39;49minternals\u001b[39m.\u001b[39;49mfind_binary(\n\u001b[0;32m    178\u001b[0m     name,\n\u001b[0;32m    179\u001b[0m     searchpath\u001b[39m=\u001b[39;49mbinary_locations,\n\u001b[0;32m    180\u001b[0m     env_vars\u001b[39m=\u001b[39;49m[\u001b[39m\"\u001b[39;49m\u001b[39mPROVER9\u001b[39;49m\u001b[39m\"\u001b[39;49m],\n\u001b[0;32m    181\u001b[0m     url\u001b[39m=\u001b[39;49m\u001b[39m\"\u001b[39;49m\u001b[39mhttps://www.cs.unm.edu/~mccune/prover9/\u001b[39;49m\u001b[39m\"\u001b[39;49m,\n\u001b[0;32m    182\u001b[0m     binary_names\u001b[39m=\u001b[39;49m[name, name \u001b[39m+\u001b[39;49m \u001b[39m\"\u001b[39;49m\u001b[39m.exe\u001b[39;49m\u001b[39m\"\u001b[39;49m],\n\u001b[0;32m    183\u001b[0m     verbose\u001b[39m=\u001b[39;49mverbose,\n\u001b[0;32m    184\u001b[0m )\n",
      "File \u001b[1;32m~\\AppData\\Local\\Packages\\PythonSoftwareFoundation.Python.3.11_qbz5n2kfra8p0\\LocalCache\\local-packages\\Python311\\site-packages\\nltk\\internals.py:675\u001b[0m, in \u001b[0;36mfind_binary\u001b[1;34m(name, path_to_bin, env_vars, searchpath, binary_names, url, verbose)\u001b[0m\n\u001b[0;32m    666\u001b[0m \u001b[39mdef\u001b[39;00m \u001b[39mfind_binary\u001b[39m(\n\u001b[0;32m    667\u001b[0m     name,\n\u001b[0;32m    668\u001b[0m     path_to_bin\u001b[39m=\u001b[39m\u001b[39mNone\u001b[39;00m,\n\u001b[1;32m   (...)\u001b[0m\n\u001b[0;32m    673\u001b[0m     verbose\u001b[39m=\u001b[39m\u001b[39mFalse\u001b[39;00m,\n\u001b[0;32m    674\u001b[0m ):\n\u001b[1;32m--> 675\u001b[0m     \u001b[39mreturn\u001b[39;00m \u001b[39mnext\u001b[39m(\n\u001b[0;32m    676\u001b[0m         find_binary_iter(\n\u001b[0;32m    677\u001b[0m             name, path_to_bin, env_vars, searchpath, binary_names, url, verbose\n\u001b[0;32m    678\u001b[0m         )\n\u001b[0;32m    679\u001b[0m     )\n",
      "File \u001b[1;32m~\\AppData\\Local\\Packages\\PythonSoftwareFoundation.Python.3.11_qbz5n2kfra8p0\\LocalCache\\local-packages\\Python311\\site-packages\\nltk\\internals.py:661\u001b[0m, in \u001b[0;36mfind_binary_iter\u001b[1;34m(name, path_to_bin, env_vars, searchpath, binary_names, url, verbose)\u001b[0m\n\u001b[0;32m    641\u001b[0m \u001b[39mdef\u001b[39;00m \u001b[39mfind_binary_iter\u001b[39m(\n\u001b[0;32m    642\u001b[0m     name,\n\u001b[0;32m    643\u001b[0m     path_to_bin\u001b[39m=\u001b[39m\u001b[39mNone\u001b[39;00m,\n\u001b[1;32m   (...)\u001b[0m\n\u001b[0;32m    648\u001b[0m     verbose\u001b[39m=\u001b[39m\u001b[39mFalse\u001b[39;00m,\n\u001b[0;32m    649\u001b[0m ):\n\u001b[0;32m    650\u001b[0m \u001b[39m    \u001b[39m\u001b[39m\"\"\"\u001b[39;00m\n\u001b[0;32m    651\u001b[0m \u001b[39m    Search for a file to be used by nltk.\u001b[39;00m\n\u001b[0;32m    652\u001b[0m \n\u001b[1;32m   (...)\u001b[0m\n\u001b[0;32m    659\u001b[0m \u001b[39m    :param verbose: Whether or not to print path when a file is found.\u001b[39;00m\n\u001b[0;32m    660\u001b[0m \u001b[39m    \"\"\"\u001b[39;00m\n\u001b[1;32m--> 661\u001b[0m     \u001b[39myield from\u001b[39;00m find_file_iter(\n\u001b[0;32m    662\u001b[0m         path_to_bin \u001b[39mor\u001b[39;00m name, env_vars, searchpath, binary_names, url, verbose\n\u001b[0;32m    663\u001b[0m     )\n",
      "File \u001b[1;32m~\\AppData\\Local\\Packages\\PythonSoftwareFoundation.Python.3.11_qbz5n2kfra8p0\\LocalCache\\local-packages\\Python311\\site-packages\\nltk\\internals.py:620\u001b[0m, in \u001b[0;36mfind_file_iter\u001b[1;34m(filename, env_vars, searchpath, file_names, url, verbose, finding_dir)\u001b[0m\n\u001b[0;32m    618\u001b[0m     msg \u001b[39m+\u001b[39m\u001b[39m=\u001b[39m \u001b[39mf\u001b[39m\u001b[39m\"\u001b[39m\u001b[39m\\n\u001b[39;00m\u001b[39m\\n\u001b[39;00m\u001b[39m  For more information on \u001b[39m\u001b[39m{\u001b[39;00mfilename\u001b[39m}\u001b[39;00m\u001b[39m, see:\u001b[39m\u001b[39m\\n\u001b[39;00m\u001b[39m    <\u001b[39m\u001b[39m{\u001b[39;00murl\u001b[39m}\u001b[39;00m\u001b[39m>\u001b[39m\u001b[39m\"\u001b[39m\n\u001b[0;32m    619\u001b[0m div \u001b[39m=\u001b[39m \u001b[39m\"\u001b[39m\u001b[39m=\u001b[39m\u001b[39m\"\u001b[39m \u001b[39m*\u001b[39m \u001b[39m75\u001b[39m\n\u001b[1;32m--> 620\u001b[0m \u001b[39mraise\u001b[39;00m \u001b[39mLookupError\u001b[39;00m(\u001b[39mf\u001b[39m\u001b[39m\"\u001b[39m\u001b[39m\\n\u001b[39;00m\u001b[39m\\n\u001b[39;00m\u001b[39m{\u001b[39;00mdiv\u001b[39m}\u001b[39;00m\u001b[39m\\n\u001b[39;00m\u001b[39m{\u001b[39;00mmsg\u001b[39m}\u001b[39;00m\u001b[39m\\n\u001b[39;00m\u001b[39m{\u001b[39;00mdiv\u001b[39m}\u001b[39;00m\u001b[39m\"\u001b[39m)\n",
      "\u001b[1;31mLookupError\u001b[0m: \n\n===========================================================================\nNLTK was unable to find the mace4 file!\nUse software specific configuration parameters or set the PROVER9 environment variable.\n\n  Searched in:\n    - /usr/local/bin/prover9\n    - /usr/local/bin/prover9/bin\n    - /usr/local/bin\n    - /usr/bin\n    - /usr/local/prover9\n    - /usr/local/share/prover9\n\n  For more information on mace4, see:\n    <https://www.cs.unm.edu/~mccune/prover9/>\n==========================================================================="
     ]
    }
   ],
   "source": [
    "dt = nltk.DiscourseTester(['A student dances', 'Every student is a person'])\n",
    "dt.readings()"
   ]
  },
  {
   "cell_type": "code",
   "execution_count": null,
   "metadata": {},
   "outputs": [],
   "source": [
    "dt.add_sentence('No person dances', consistchk=True)"
   ]
  },
  {
   "cell_type": "code",
   "execution_count": null,
   "metadata": {},
   "outputs": [],
   "source": [
    "dt.retract_sentence('No person dances', verbose=True)"
   ]
  },
  {
   "cell_type": "code",
   "execution_count": null,
   "metadata": {},
   "outputs": [],
   "source": [
    "dt.add_sentence('A person dances', informchk=True)"
   ]
  },
  {
   "cell_type": "code",
   "execution_count": null,
   "metadata": {},
   "outputs": [],
   "source": [
    "from nltk.tag import RegexpTagger\n",
    "tagger = RegexpTagger(\n",
    "    [('^(chases|runs)$', 'VB'),\n",
    "     ('^(a)$', 'ex_quant'),\n",
    "     ('^(every)$', 'univ_quant'),\n",
    "     ('^(dog|boy)$', 'NN'),\n",
    "     ('^(He)$', 'PRP')\n",
    "])\n",
    "rc = nltk.DrtGlueReadingCommand(depparser=nltk.MaltParser(tagger=tagger))\n",
    "dt = nltk.DiscourseTester(['Every dog chases a boy', 'He runs'], rc)\n",
    "dt.readings()"
   ]
  },
  {
   "cell_type": "code",
   "execution_count": null,
   "metadata": {},
   "outputs": [],
   "source": [
    "dt.readings(show_thread_readings=True)"
   ]
  },
  {
   "cell_type": "code",
   "execution_count": null,
   "metadata": {},
   "outputs": [],
   "source": [
    "dt.readings(show_thread_readings=True, filter=True)"
   ]
  }
 ],
 "metadata": {
  "kernelspec": {
   "display_name": "Python 3",
   "language": "python",
   "name": "python3"
  },
  "language_info": {
   "codemirror_mode": {
    "name": "ipython",
    "version": 3
   },
   "file_extension": ".py",
   "mimetype": "text/x-python",
   "name": "python",
   "nbconvert_exporter": "python",
   "pygments_lexer": "ipython3",
   "version": "3.11.5"
  },
  "orig_nbformat": 4
 },
 "nbformat": 4,
 "nbformat_minor": 2
}
